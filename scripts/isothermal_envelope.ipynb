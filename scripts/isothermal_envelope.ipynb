{
 "cells": [
  {
   "cell_type": "code",
   "execution_count": null,
   "metadata": {},
   "outputs": [],
   "source": [
    "import sys\n",
    "import matplotlib.pyplot as plt\n",
    "import numpy as np\n",
    "import pandas as pd\n",
    "\n",
    "sys.path.append('/home/mcgillc2/repos/EquiNet') # location of EquiNet repository\n",
    "\n",
    "from chemprop.train import make_predictions\n",
    "from chemprop.args import PredictArgs"
   ]
  },
  {
   "cell_type": "code",
   "execution_count": 3,
   "metadata": {},
   "outputs": [],
   "source": [
    "# set your inputs\n",
    "smiles1 = \"CCO\"\n",
    "smiles2 = \"O\"\n",
    "T = 373 # Temperature in K"
   ]
  },
  {
   "cell_type": "code",
   "execution_count": 4,
   "metadata": {},
   "outputs": [],
   "source": [
    "# If you want a temporary path location for the results to write to\n",
    "import tempfile\n",
    "\n",
    "temp_preds = tempfile.mktemp(suffix='.csv')\n",
    "temp_features = tempfile.mktemp(suffix='.csv')\n",
    "temp_test = tempfile.mktemp(suffix='.csv')"
   ]
  },
  {
   "cell_type": "code",
   "execution_count": 5,
   "metadata": {},
   "outputs": [
    {
     "name": "stdout",
     "output_type": "stream",
     "text": [
      "    smiles1 smiles2\n",
      "0       CCO       O\n",
      "1       CCO       O\n",
      "2       CCO       O\n",
      "3       CCO       O\n",
      "4       CCO       O\n",
      "..      ...     ...\n",
      "96      CCO       O\n",
      "97      CCO       O\n",
      "98      CCO       O\n",
      "99      CCO       O\n",
      "100     CCO       O\n",
      "\n",
      "[101 rows x 2 columns]\n",
      "       x1    x2    T log10P1sat log10P2sat\n",
      "0    0.00  1.00  373        nan        nan\n",
      "1    0.01  0.99  373        nan        nan\n",
      "2    0.02  0.98  373        nan        nan\n",
      "3    0.03  0.97  373        nan        nan\n",
      "4    0.04  0.96  373        nan        nan\n",
      "..    ...   ...  ...        ...        ...\n",
      "96   0.96  0.04  373        nan        nan\n",
      "97   0.97  0.03  373        nan        nan\n",
      "98   0.98  0.02  373        nan        nan\n",
      "99   0.99  0.01  373        nan        nan\n",
      "100  1.00  0.00  373        nan        nan\n",
      "\n",
      "[101 rows x 5 columns]\n"
     ]
    }
   ],
   "source": [
    "# make input files\n",
    "\n",
    "x1s = np.arange(0, 1.01, 0.01)\n",
    "x2s = 1 - x1s\n",
    "\n",
    "test_df = pd.DataFrame({\n",
    "    'smiles1': [smiles1]*len(x1s),\n",
    "    'smiles2': [smiles2]*len(x2s),\n",
    "})\n",
    "features_df = pd.DataFrame({\n",
    "    'x1': x1s,\n",
    "    'x2': x2s,\n",
    "    'T': [T]*len(x1s),\n",
    "    'log10P1sat': ['nan']*len(x1s),\n",
    "    'log10P2sat': ['nan']*len(x1s),\n",
    "})\n",
    "\n",
    "print(test_df)\n",
    "print(features_df)"
   ]
  },
  {
   "cell_type": "code",
   "execution_count": 6,
   "metadata": {},
   "outputs": [],
   "source": [
    "test_df.to_csv(temp_test, index=False)\n",
    "features_df.to_csv(temp_features, index=False)"
   ]
  },
  {
   "cell_type": "code",
   "execution_count": 7,
   "metadata": {
    "colab": {
     "base_uri": "https://localhost:8080/"
    },
    "executionInfo": {
     "elapsed": 1091,
     "status": "ok",
     "timestamp": 1631803601532,
     "user": {
      "displayName": "Nastassja Lewinski",
      "photoUrl": "https://lh3.googleusercontent.com/a/default-user=s64",
      "userId": "01731918785560404934"
     },
     "user_tz": 240
    },
    "id": "KHEnCx_E8HMS",
    "outputId": "19102106-1824-4350-a9c5-ba1557c5237b"
   },
   "outputs": [
    {
     "name": "stdout",
     "output_type": "stream",
     "text": [
      "Loading training args\n"
     ]
    },
    {
     "name": "stderr",
     "output_type": "stream",
     "text": [
      "/home/mcgillc2/repos/EquiNet/chemprop/utils.py:463: FutureWarning: You are using `torch.load` with `weights_only=False` (the current default value), which uses the default pickle module implicitly. It is possible to construct malicious pickle data which will execute arbitrary code during unpickling (See https://github.com/pytorch/pytorch/blob/main/SECURITY.md#untrusted-models for more details). In a future release, the default value for `weights_only` will be flipped to `True`. This limits the functions that could be executed during unpickling. Arbitrary objects will no longer be allowed to be loaded via this mode unless they are explicitly allowlisted by the user via `torch.serialization.add_safe_globals`. We recommend you start setting `weights_only=True` for any use case where you don't have full control of the loaded file. Please open an issue on GitHub for any issues related to this experimental feature.\n",
      "  vars(torch.load(path, map_location=lambda storage, loc: storage)[\"args\"]),\n"
     ]
    },
    {
     "name": "stdout",
     "output_type": "stream",
     "text": [
      "Setting molecule featurization parameters to default.\n",
      "Loading data\n"
     ]
    },
    {
     "name": "stderr",
     "output_type": "stream",
     "text": [
      "101it [00:00, 438989.33it/s]\n",
      "100%|██████████| 101/101 [00:00<00:00, 117804.42it/s]\n"
     ]
    },
    {
     "name": "stdout",
     "output_type": "stream",
     "text": [
      "Validating SMILES\n",
      "Test size = 101\n"
     ]
    },
    {
     "name": "stderr",
     "output_type": "stream",
     "text": [
      "  0%|          | 0/1 [00:00<?, ?it/s]/home/mcgillc2/repos/EquiNet/chemprop/utils.py:117: FutureWarning: You are using `torch.load` with `weights_only=False` (the current default value), which uses the default pickle module implicitly. It is possible to construct malicious pickle data which will execute arbitrary code during unpickling (See https://github.com/pytorch/pytorch/blob/main/SECURITY.md#untrusted-models for more details). In a future release, the default value for `weights_only` will be flipped to `True`. This limits the functions that could be executed during unpickling. Arbitrary objects will no longer be allowed to be loaded via this mode unless they are explicitly allowlisted by the user via `torch.serialization.add_safe_globals`. We recommend you start setting `weights_only=True` for any use case where you don't have full control of the loaded file. Please open an issue on GitHub for any issues related to this experimental feature.\n",
      "  state = torch.load(path, map_location=lambda storage, loc: storage)\n",
      "/home/mcgillc2/repos/EquiNet/chemprop/utils.py:401: FutureWarning: You are using `torch.load` with `weights_only=False` (the current default value), which uses the default pickle module implicitly. It is possible to construct malicious pickle data which will execute arbitrary code during unpickling (See https://github.com/pytorch/pytorch/blob/main/SECURITY.md#untrusted-models for more details). In a future release, the default value for `weights_only` will be flipped to `True`. This limits the functions that could be executed during unpickling. Arbitrary objects will no longer be allowed to be loaded via this mode unless they are explicitly allowlisted by the user via `torch.serialization.add_safe_globals`. We recommend you start setting `weights_only=True` for any use case where you don't have full control of the loaded file. Please open an issue on GitHub for any issues related to this experimental feature.\n",
      "  state = torch.load(path, map_location=lambda storage, loc: storage)\n"
     ]
    },
    {
     "name": "stdout",
     "output_type": "stream",
     "text": [
      "Loading pretrained parameter \"encoder.encoder.0.cached_zero_vector\".\n",
      "Loading pretrained parameter \"encoder.encoder.0.W_i.weight\".\n",
      "Loading pretrained parameter \"encoder.encoder.0.W_h.weight\".\n",
      "Loading pretrained parameter \"encoder.encoder.0.W_o.weight\".\n",
      "Loading pretrained parameter \"encoder.encoder.0.W_o.bias\".\n",
      "Loading pretrained parameter \"encoder.encoder.1.cached_zero_vector\".\n",
      "Loading pretrained parameter \"encoder.encoder.1.W_i.weight\".\n",
      "Loading pretrained parameter \"encoder.encoder.1.W_h.weight\".\n",
      "Loading pretrained parameter \"encoder.encoder.1.W_o.weight\".\n",
      "Loading pretrained parameter \"encoder.encoder.1.W_o.bias\".\n",
      "Loading pretrained parameter \"readout.1.weight\".\n",
      "Loading pretrained parameter \"readout.1.bias\".\n",
      "Loading pretrained parameter \"readout.4.weight\".\n",
      "Loading pretrained parameter \"readout.4.bias\".\n",
      "Loading pretrained parameter \"intrinsic_vp.1.weight\".\n",
      "Loading pretrained parameter \"intrinsic_vp.1.bias\".\n",
      "Loading pretrained parameter \"intrinsic_vp.4.weight\".\n",
      "Loading pretrained parameter \"intrinsic_vp.4.bias\".\n"
     ]
    },
    {
     "name": "stderr",
     "output_type": "stream",
     "text": [
      "100%|██████████| 1/1 [00:00<00:00,  2.38it/s]"
     ]
    },
    {
     "name": "stdout",
     "output_type": "stream",
     "text": [
      "Saving predictions to /tmp/tmpeuoyb2tr.csv\n",
      "Elapsed time = 0:00:01\n"
     ]
    },
    {
     "name": "stderr",
     "output_type": "stream",
     "text": [
      "\n"
     ]
    }
   ],
   "source": [
    "arguments = [\n",
    "    '--test_path', temp_test,\n",
    "    '--features_path', temp_features,\n",
    "    '--preds_path', temp_preds,\n",
    "    '--checkpoint_dir', '.',\n",
    "    '--number_of_molecules', '2',\n",
    "    '--num_workers', '0',\n",
    "]\n",
    "\n",
    "args = PredictArgs().parse_args(arguments)\n",
    "\n",
    "preds = make_predictions(args=args)"
   ]
  },
  {
   "cell_type": "code",
   "execution_count": 8,
   "metadata": {},
   "outputs": [
    {
     "data": {
      "text/html": [
       "<div>\n",
       "<style scoped>\n",
       "    .dataframe tbody tr th:only-of-type {\n",
       "        vertical-align: middle;\n",
       "    }\n",
       "\n",
       "    .dataframe tbody tr th {\n",
       "        vertical-align: top;\n",
       "    }\n",
       "\n",
       "    .dataframe thead th {\n",
       "        text-align: right;\n",
       "    }\n",
       "</style>\n",
       "<table border=\"1\" class=\"dataframe\">\n",
       "  <thead>\n",
       "    <tr style=\"text-align: right;\">\n",
       "      <th></th>\n",
       "      <th>y1</th>\n",
       "      <th>y2</th>\n",
       "      <th>log10P</th>\n",
       "      <th>lngamma1</th>\n",
       "      <th>lngamma2</th>\n",
       "      <th>log10P1sat</th>\n",
       "      <th>log10P2sat</th>\n",
       "    </tr>\n",
       "  </thead>\n",
       "  <tbody>\n",
       "    <tr>\n",
       "      <th>0</th>\n",
       "      <td>0.000000</td>\n",
       "      <td>1.000000</td>\n",
       "      <td>5.006928</td>\n",
       "      <td>1.809950</td>\n",
       "      <td>0.000000</td>\n",
       "      <td>5.343035</td>\n",
       "      <td>5.006928</td>\n",
       "    </tr>\n",
       "    <tr>\n",
       "      <th>1</th>\n",
       "      <td>0.110832</td>\n",
       "      <td>0.889168</td>\n",
       "      <td>5.053733</td>\n",
       "      <td>1.739290</td>\n",
       "      <td>0.000354</td>\n",
       "      <td>5.343035</td>\n",
       "      <td>5.006928</td>\n",
       "    </tr>\n",
       "    <tr>\n",
       "      <th>2</th>\n",
       "      <td>0.190320</td>\n",
       "      <td>0.809680</td>\n",
       "      <td>5.090444</td>\n",
       "      <td>1.671361</td>\n",
       "      <td>0.001389</td>\n",
       "      <td>5.343035</td>\n",
       "      <td>5.006928</td>\n",
       "    </tr>\n",
       "    <tr>\n",
       "      <th>3</th>\n",
       "      <td>0.249889</td>\n",
       "      <td>0.750111</td>\n",
       "      <td>5.119906</td>\n",
       "      <td>1.606045</td>\n",
       "      <td>0.003066</td>\n",
       "      <td>5.343035</td>\n",
       "      <td>5.006928</td>\n",
       "    </tr>\n",
       "    <tr>\n",
       "      <th>4</th>\n",
       "      <td>0.296034</td>\n",
       "      <td>0.703966</td>\n",
       "      <td>5.143970</td>\n",
       "      <td>1.543233</td>\n",
       "      <td>0.005349</td>\n",
       "      <td>5.343035</td>\n",
       "      <td>5.006928</td>\n",
       "    </tr>\n",
       "    <tr>\n",
       "      <th>...</th>\n",
       "      <td>...</td>\n",
       "      <td>...</td>\n",
       "      <td>...</td>\n",
       "      <td>...</td>\n",
       "      <td>...</td>\n",
       "      <td>...</td>\n",
       "      <td>...</td>\n",
       "    </tr>\n",
       "    <tr>\n",
       "      <th>96</th>\n",
       "      <td>0.955849</td>\n",
       "      <td>0.044151</td>\n",
       "      <td>5.345246</td>\n",
       "      <td>0.000757</td>\n",
       "      <td>0.877736</td>\n",
       "      <td>5.343035</td>\n",
       "      <td>5.006928</td>\n",
       "    </tr>\n",
       "    <tr>\n",
       "      <th>97</th>\n",
       "      <td>0.966538</td>\n",
       "      <td>0.033462</td>\n",
       "      <td>5.344771</td>\n",
       "      <td>0.000421</td>\n",
       "      <td>0.887134</td>\n",
       "      <td>5.343035</td>\n",
       "      <td>5.006928</td>\n",
       "    </tr>\n",
       "    <tr>\n",
       "      <th>98</th>\n",
       "      <td>0.977455</td>\n",
       "      <td>0.022545</td>\n",
       "      <td>5.344245</td>\n",
       "      <td>0.000185</td>\n",
       "      <td>0.896489</td>\n",
       "      <td>5.343035</td>\n",
       "      <td>5.006928</td>\n",
       "    </tr>\n",
       "    <tr>\n",
       "      <th>99</th>\n",
       "      <td>0.988607</td>\n",
       "      <td>0.011393</td>\n",
       "      <td>5.343667</td>\n",
       "      <td>0.000046</td>\n",
       "      <td>0.905801</td>\n",
       "      <td>5.343035</td>\n",
       "      <td>5.006928</td>\n",
       "    </tr>\n",
       "    <tr>\n",
       "      <th>100</th>\n",
       "      <td>1.000000</td>\n",
       "      <td>0.000000</td>\n",
       "      <td>5.343035</td>\n",
       "      <td>0.000000</td>\n",
       "      <td>0.915071</td>\n",
       "      <td>5.343035</td>\n",
       "      <td>5.006928</td>\n",
       "    </tr>\n",
       "  </tbody>\n",
       "</table>\n",
       "<p>101 rows × 7 columns</p>\n",
       "</div>"
      ],
      "text/plain": [
       "           y1        y2    log10P  lngamma1  lngamma2  log10P1sat  log10P2sat\n",
       "0    0.000000  1.000000  5.006928  1.809950  0.000000    5.343035    5.006928\n",
       "1    0.110832  0.889168  5.053733  1.739290  0.000354    5.343035    5.006928\n",
       "2    0.190320  0.809680  5.090444  1.671361  0.001389    5.343035    5.006928\n",
       "3    0.249889  0.750111  5.119906  1.606045  0.003066    5.343035    5.006928\n",
       "4    0.296034  0.703966  5.143970  1.543233  0.005349    5.343035    5.006928\n",
       "..        ...       ...       ...       ...       ...         ...         ...\n",
       "96   0.955849  0.044151  5.345246  0.000757  0.877736    5.343035    5.006928\n",
       "97   0.966538  0.033462  5.344771  0.000421  0.887134    5.343035    5.006928\n",
       "98   0.977455  0.022545  5.344245  0.000185  0.896489    5.343035    5.006928\n",
       "99   0.988607  0.011393  5.343667  0.000046  0.905801    5.343035    5.006928\n",
       "100  1.000000  0.000000  5.343035  0.000000  0.915071    5.343035    5.006928\n",
       "\n",
       "[101 rows x 7 columns]"
      ]
     },
     "execution_count": 8,
     "metadata": {},
     "output_type": "execute_result"
    }
   ],
   "source": [
    "preds_df = pd.DataFrame(preds, columns=['y1', 'y2', 'log10P', 'lngamma1', 'lngamma2', 'log10P1sat', 'log10P2sat'])\n",
    "preds_df"
   ]
  },
  {
   "cell_type": "code",
   "execution_count": 9,
   "metadata": {},
   "outputs": [
    {
     "data": {
      "text/plain": [
       "Text(0.5, 1.0, 'Mixture of SMILES CCO (1) and \\nSMILES O (2) at T = 373 K')"
      ]
     },
     "execution_count": 9,
     "metadata": {},
     "output_type": "execute_result"
    },
    {
     "data": {
      "image/png": "[encoded data removed]",
      "text/plain": [
       "<Figure size 432x288 with 1 Axes>"
      ]
     },
     "metadata": {
      "needs_background": "light"
     },
     "output_type": "display_data"
    }
   ],
   "source": [
    "plt.plot(x1s, 10**preds_df['log10P'],label=\"liquid\", color='blue')\n",
    "plt.plot(preds_df[\"y1\"], 10**preds_df['log10P'], label=\"vapor\", color='red')\n",
    "plt.legend()\n",
    "plt.xlim(0, 1)\n",
    "plt.ylabel('Pressure, P (Pa)')\n",
    "plt.xlabel('Mole Fraction of Component 1, x1 and y1')\n",
    "plt.title(f'Mixture of SMILES {smiles1} (1) and \\nSMILES {smiles2} (2) at T = {T} K')"
   ]
  },
  {
   "cell_type": "code",
   "execution_count": null,
   "metadata": {},
   "outputs": [],
   "source": []
  }
 ],
 "metadata": {
  "colab": {
   "name": "CLSE650_F21_Lecture8.ipynb",
   "provenance": [
    {
     "file_id": "1eZvt-fYfpLG68qDm83DUOpEYzQSEIrFL",
     "timestamp": 1631797701974
    }
   ]
  },
  "kernelspec": {
   "display_name": "equinet",
   "language": "python",
   "name": "python3"
  },
  "language_info": {
   "codemirror_mode": {
    "name": "ipython",
    "version": 3
   },
   "file_extension": ".py",
   "mimetype": "text/x-python",
   "name": "python",
   "nbconvert_exporter": "python",
   "pygments_lexer": "ipython3",
   "version": "3.8.20"
  }
 },
 "nbformat": 4,
 "nbformat_minor": 0
}
